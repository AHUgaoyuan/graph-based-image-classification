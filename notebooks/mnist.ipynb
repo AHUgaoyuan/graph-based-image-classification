{
  "cells": [
    {
      "cell_type": "code",
      "execution_count": null,
      "metadata": {
        "collapsed": false,
      },
      "outputs": [],
      "source": [
        "import numpy as np\n",
        "print(np.array([2, 3, 4]))"
      ]
    }
  ]
}
